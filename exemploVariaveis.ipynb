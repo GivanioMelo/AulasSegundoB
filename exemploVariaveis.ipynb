{
 "cells": [
  {
   "cell_type": "markdown",
   "metadata": {},
   "source": [
    "# Variavel Simples\n",
    "### Tecnicamente essa é uma variavel global, mas como nao tem nenhuma função que use ela, não faz diferença..."
   ]
  },
  {
   "cell_type": "code",
   "execution_count": 1,
   "metadata": {},
   "outputs": [
    {
     "name": "stdout",
     "output_type": "stream",
     "text": [
      "10\n"
     ]
    }
   ],
   "source": [
    "variavel_simples = 10\n",
    "print(variavel_simples)"
   ]
  },
  {
   "cell_type": "markdown",
   "metadata": {},
   "source": [
    "# Variável Local\n",
    "### Essa variável já está dentro da nossa função"
   ]
  },
  {
   "cell_type": "code",
   "execution_count": 2,
   "metadata": {},
   "outputs": [
    {
     "name": "stdout",
     "output_type": "stream",
     "text": [
      "10\n"
     ]
    }
   ],
   "source": [
    "def minhafuncao():\n",
    "    variavel_local = 10\n",
    "    print(variavel_local)\n",
    "\n",
    "\n",
    "minhafuncao()"
   ]
  },
  {
   "cell_type": "markdown",
   "metadata": {},
   "source": [
    "# Variavel Global\n",
    "### A principio ela é visivel para todas as funções, mas apenas para leitura, não para alteração, isso acontece por causa da conversão para o escopo local..."
   ]
  },
  {
   "cell_type": "code",
   "execution_count": 3,
   "metadata": {},
   "outputs": [
    {
     "name": "stdout",
     "output_type": "stream",
     "text": [
      "10\n"
     ]
    }
   ],
   "source": [
    "variavel_de_fora = 10\n",
    "\n",
    "def minhaOutraFuncao():\n",
    "    print(variavel_de_fora)\n",
    "\n",
    "minhaOutraFuncao()"
   ]
  },
  {
   "cell_type": "markdown",
   "metadata": {},
   "source": [
    "# Conversão em variável local\n",
    "### O python deixa você enxergar uma variável de fora, mas você não pode alterá-la"
   ]
  },
  {
   "cell_type": "code",
   "execution_count": 8,
   "metadata": {},
   "outputs": [
    {
     "name": "stdout",
     "output_type": "stream",
     "text": [
      "10\n"
     ]
    }
   ],
   "source": [
    "def minhaOutraFuncao_parte_2():\n",
    "    print(variavel_de_fora_muito_fora)\n",
    "\n",
    "variavel_de_fora_muito_fora = 10\n",
    "\n",
    "minhaOutraFuncao_parte_2()"
   ]
  },
  {
   "cell_type": "markdown",
   "metadata": {},
   "source": [
    "# PASSAGEM DE PARAMETRO POR CÓPIA\n",
    "### Esse é o jeito padrão de passagem de parametros no python, e pra mim é o melhor jeito por enquanto..."
   ]
  },
  {
   "cell_type": "code",
   "execution_count": 11,
   "metadata": {},
   "outputs": [
    {
     "name": "stdout",
     "output_type": "stream",
     "text": [
      "10\n",
      "10\n",
      "20\n",
      "20\n"
     ]
    }
   ],
   "source": [
    "def minhafuncaodiferentona(copia_local):\n",
    "    print(copia_local)\n",
    "    copia_local = copia_local * 2\n",
    "    print(copia_local)\n",
    "    return copia_local\n",
    "\n",
    "variavel_global = 10\n",
    "print(variavel_global)\n",
    "variavel_global = minhafuncaodiferentona(variavel_global)\n",
    "print(variavel_global)"
   ]
  },
  {
   "cell_type": "markdown",
   "metadata": {},
   "source": [
    "# Esse jeito aqui permite que uma função altere o valor de uma variavel de fora dela, mas gera muitos pontos de incosistencia e possivel falha..."
   ]
  },
  {
   "cell_type": "code",
   "execution_count": 12,
   "metadata": {},
   "outputs": [
    {
     "name": "stdout",
     "output_type": "stream",
     "text": [
      "10\n",
      "10\n",
      "20\n",
      "20\n"
     ]
    }
   ],
   "source": [
    "\n",
    "def minhafuncaodiferentona2_o_retorno():\n",
    "    global variavel_global2\n",
    "    print(variavel_global2)\n",
    "    variavel_global2 = variavel_global2 * 2\n",
    "    print(variavel_global2)\n",
    "\n",
    "variavel_global2 = 10\n",
    "print(variavel_global2)\n",
    "minhafuncaodiferentona2_o_retorno()\n",
    "print(variavel_global2)"
   ]
  }
 ],
 "metadata": {
  "kernelspec": {
   "display_name": "Python 3",
   "language": "python",
   "name": "python3"
  },
  "language_info": {
   "codemirror_mode": {
    "name": "ipython",
    "version": 3
   },
   "file_extension": ".py",
   "mimetype": "text/x-python",
   "name": "python",
   "nbconvert_exporter": "python",
   "pygments_lexer": "ipython3",
   "version": "3.11.4"
  },
  "orig_nbformat": 4
 },
 "nbformat": 4,
 "nbformat_minor": 2
}
