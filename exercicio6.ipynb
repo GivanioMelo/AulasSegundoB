{
 "cells": [
  {
   "cell_type": "code",
   "execution_count": 16,
   "metadata": {},
   "outputs": [],
   "source": [
    "perguntas = [\n",
    "\"Qual o melhor anime de todos os tempos?\",\n",
    "\"Quem é o guerreiro mais poderoso do universo 7?\",\n",
    "\"Luffy quer ser o rei dos...?\",\n",
    "\"Qual sequencia de anime é uma decepção total?\",\n",
    "\"Colocar abacaxi na pizza é...?\",\n",
    "\"Quem cozinha macarrão na agua fria merece a...?\",\n",
    "\"A Policia trabalha certa, se aborda é por que tem...?\",\n",
    "\"Qual o melhor amigo do homem?\",\n",
    "\"Quem espera, sempre...?\",\n",
    "\"Kenshin Himura era conhecido como...\"]\n",
    "\n",
    "respostas_certas = [\"Naruto\",\"Goku\",\n",
    "\"piratas\",\"Boruto\",\"pecado\",\"morte\",\n",
    "\"certeza\",\"playstation\",\"cansa\",\"Battousai\"]\n"
   ]
  },
  {
   "cell_type": "code",
   "execution_count": 14,
   "metadata": {},
   "outputs": [
    {
     "name": "stdout",
     "output_type": "stream",
     "text": [
      "9\n",
      "10\n"
     ]
    }
   ],
   "source": [
    "print(len(perguntas))\n",
    "print(len(respostas_certas))"
   ]
  },
  {
   "cell_type": "code",
   "execution_count": 15,
   "metadata": {},
   "outputs": [
    {
     "name": "stdout",
     "output_type": "stream",
     "text": [
      "False\n"
     ]
    }
   ],
   "source": [
    "comprimentosSaoIguais = len(perguntas) == len(respostas_certas)\n",
    "print(comprimentosSaoIguais)"
   ]
  },
  {
   "cell_type": "code",
   "execution_count": 18,
   "metadata": {},
   "outputs": [],
   "source": [
    "quantidadePerguntas = len(perguntas)"
   ]
  },
  {
   "cell_type": "code",
   "execution_count": 19,
   "metadata": {},
   "outputs": [
    {
     "name": "stdout",
     "output_type": "stream",
     "text": [
      "10\n"
     ]
    }
   ],
   "source": [
    "print(quantidadePerguntas)"
   ]
  },
  {
   "cell_type": "code",
   "execution_count": 25,
   "metadata": {},
   "outputs": [
    {
     "name": "stdout",
     "output_type": "stream",
     "text": [
      "[0, 1, 2, 3, 4, 5, 6, 7, 8, 9]\n"
     ]
    }
   ],
   "source": [
    "indicesPossiveis = [0,1,2,3,4,5,6,7,8,9]\n",
    "print(x)"
   ]
  },
  {
   "cell_type": "code",
   "execution_count": 29,
   "metadata": {},
   "outputs": [],
   "source": [
    "nota = 0"
   ]
  },
  {
   "cell_type": "code",
   "execution_count": 30,
   "metadata": {},
   "outputs": [
    {
     "name": "stdout",
     "output_type": "stream",
     "text": [
      "Acertou mizeravi!!!\n",
      "Acertou mizeravi!!!\n",
      "Acertou mizeravi!!!\n",
      "Acertou mizeravi!!!\n",
      "Acertou mizeravi!!!\n",
      "Acertou mizeravi!!!\n",
      "Acertou mizeravi!!!\n",
      "Acertou mizeravi!!!\n",
      "Acertou mizeravi!!!\n",
      "Errrrrrrrooou!!!\n"
     ]
    }
   ],
   "source": [
    "for i in indicesPossiveis:\n",
    "    resposta = input(perguntas[i])\n",
    "    if(resposta == respostas_certas[i]):\n",
    "        print(\"Acertou mizeravi!!!\")\n",
    "        nota = nota + 1\n",
    "    else:\n",
    "        print(\"Errrrrrrrooou!!!\")"
   ]
  },
  {
   "cell_type": "code",
   "execution_count": 31,
   "metadata": {},
   "outputs": [
    {
     "name": "stdout",
     "output_type": "stream",
     "text": [
      "sua nota foi: 9\n"
     ]
    }
   ],
   "source": [
    "if(nota == 0):\n",
    "    print(\"parabens, nota dó...\")\n",
    "else:\n",
    "    print(f\"sua nota foi: {nota}\")"
   ]
  }
 ],
 "metadata": {
  "kernelspec": {
   "display_name": "Python 3",
   "language": "python",
   "name": "python3"
  },
  "language_info": {
   "codemirror_mode": {
    "name": "ipython",
    "version": 3
   },
   "file_extension": ".py",
   "mimetype": "text/x-python",
   "name": "python",
   "nbconvert_exporter": "python",
   "pygments_lexer": "ipython3",
   "version": "3.11.4"
  },
  "orig_nbformat": 4
 },
 "nbformat": 4,
 "nbformat_minor": 2
}
