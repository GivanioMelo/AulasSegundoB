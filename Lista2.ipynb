{
  "cells": [
    {
      "cell_type": "markdown",
      "metadata": {
        "id": "tjXYlf9drhd-"
      },
      "source": [
        "### Tuplas"
      ]
    },
    {
      "cell_type": "markdown",
      "metadata": {
        "id": "mK1S6LhTx8NT"
      },
      "source": [
        "18 - Converta a lista resultante da primeira questão sobre Listas para uma tupla e exiba o tipo de dados do objeto criado. Após realizar o casting, utilize a indexação para exibir todos os elementos com exceção do primeiro e último."
      ]
    },
    {
      "cell_type": "code",
      "execution_count": null,
      "metadata": {
        "collapsed": true,
        "id": "VRRDYbbAx7ti"
      },
      "outputs": [],
      "source": [
        "# Insira a resposta abaixo.\n"
      ]
    },
    {
      "cell_type": "markdown",
      "metadata": {
        "id": "ItO6S8D2_FlO"
      },
      "source": [
        "19 - Exiba os atributos/métodos disponíveis a partir objetos do tipo lista e tuple utilizados na questão anterior. Dica: utilize o método dir."
      ]
    },
    {
      "cell_type": "code",
      "execution_count": null,
      "metadata": {
        "collapsed": true,
        "id": "eZ-QZUaq_Fr4"
      },
      "outputs": [],
      "source": [
        "# Insira a resposta abaixo.\n"
      ]
    },
    {
      "cell_type": "code",
      "execution_count": null,
      "metadata": {
        "collapsed": true,
        "id": "wl4zuiW8lupj"
      },
      "outputs": [],
      "source": [
        "# Insira a resposta abaixo.\n"
      ]
    },
    {
      "cell_type": "markdown",
      "metadata": {
        "id": "T5fFEifblupk"
      },
      "source": [
        "20 - Crie uma tupla contendo 5 números inteiros quaisquer. Em seguida, exiba o valor máximo e o valor mínimo da tupla criada."
      ]
    },
    {
      "cell_type": "code",
      "execution_count": null,
      "metadata": {
        "collapsed": true,
        "id": "vmdJcxa6lupk"
      },
      "outputs": [],
      "source": [
        "# Insira a resposta abaixo.\n"
      ]
    },
    {
      "cell_type": "markdown",
      "metadata": {
        "id": "BaCwt9hTrafF"
      },
      "source": [
        "### Dicionários"
      ]
    },
    {
      "cell_type": "markdown",
      "metadata": {
        "id": "lSpj33z39Wej"
      },
      "source": [
        "21 - A partir do dicionário inicializado abaixo com quatro items, adicione três novos items com chaves \"three\", \"four\" e \"five\" e valores \"três\", \"quatro\" e \"cinco\"."
      ]
    },
    {
      "cell_type": "code",
      "execution_count": null,
      "metadata": {
        "collapsed": true,
        "id": "3Bomk_PZ9W2g"
      },
      "outputs": [],
      "source": [
        "my_dict = {}\n",
        "my_dict[\"one\"] = \"um\"\n",
        "my_dict[\"two\"] = \"dois\"\n",
        "my_dict[(1,2)] = [\"um\",\"dois\"]\n",
        "my_dict[1.3] = \"um ponto três\""
      ]
    },
    {
      "cell_type": "markdown",
      "metadata": {
        "id": "3fK7_FZBlupk"
      },
      "source": [
        "22 - A partir do dicionário definido anteriormente, remova o item (\"one\", \"um\") do dicionário."
      ]
    },
    {
      "cell_type": "code",
      "execution_count": null,
      "metadata": {
        "collapsed": true,
        "id": "7ZYsRud5lupl"
      },
      "outputs": [],
      "source": [
        "# Insira a resposta abaixo\n"
      ]
    },
    {
      "cell_type": "markdown",
      "metadata": {
        "id": "Pl1J-LIM9XHl"
      },
      "source": [
        "23 - A partir do dicionário definido anteriormente, realize as seguintes operações ordenadamente.\n",
        "\n",
        "1.   Exiba a quantidade de items do dicionário.\n",
        "2.   Gere automaticamente uma lista contendo as  chaves do dicionário.\n",
        "3.   Gere automaticamente uma lista contendo os valores do dicionário.\n",
        "4.   Gere automaticamente uma lista composta por tuplas do tipo (chave, valor).\n",
        "5.   Remova os items cuja chaves são (1,2) e 1.3.\n",
        "6.   Exiba o dicionário final\n",
        "\n",
        "\n",
        "\n",
        "\n",
        "\n"
      ]
    },
    {
      "cell_type": "code",
      "execution_count": null,
      "metadata": {
        "collapsed": true,
        "id": "PbxB2_4Ulupl"
      },
      "outputs": [],
      "source": [
        "# Insira a resposta abaixo\n",
        "\n",
        "# Passo 1\n",
        "\n",
        "\n",
        "# Passo 2\n",
        "\n",
        "\n",
        "# Passo 3\n",
        "\n",
        "\n",
        "# Passo 4\n",
        "\n",
        "\n",
        "# Passo 5\n",
        "\n",
        "\n",
        "# Passo 6"
      ]
    },
    {
      "cell_type": "markdown",
      "metadata": {
        "id": "iNDUUfFPqNsC"
      },
      "source": [
        "24 - A partir dos dicionários '*en*' e '*pt_br*' definidos abaixo, crie um terceiro dicionário denominado '*translator*' cujas chaves são, respectivamente, 'en' e 'pt_br' e os valores sejam os dicionários correspondentes. Exiba o dicionário criado."
      ]
    },
    {
      "cell_type": "code",
      "execution_count": null,
      "metadata": {
        "collapsed": true,
        "id": "iIv7lR8zqNy1"
      },
      "outputs": [],
      "source": [
        "pt_br = {1:\"um\", 2:\"dois\", 3:\"tres\"}\n",
        "en = {1:\"one\", 2:\"two\", 3:\"three\"}\n",
        "\n",
        "# Insira a resposta abaixo\n"
      ]
    },
    {
      "cell_type": "markdown",
      "metadata": {
        "id": "cK-nN01LpxwW"
      },
      "source": [
        "### Estruturas de Decisão"
      ]
    },
    {
      "cell_type": "markdown",
      "metadata": {
        "id": "PDkLty8ayY9p"
      },
      "source": [
        "25 - Utilize estruturas de decisão se-senão para construir um script que simule a árvore de decisão disposta na figura abaixo. Para cada nó da árvore, o usuário deve fornecer um valor a ser armazenado em uma variável e utilizado para verificar o fluxo que deve ser seguido até atingir uma das folha, exibindo algum dos valores \"Opção 1\", \"Opção 2\" ou \"Opção 3\".\n",
        "\n",
        "\n",
        "![alt text](https://docs.google.com/uc?export=download&id=1i5518GVTI9vh3proj3C1dblBXOJtHAvP)"
      ]
    },
    {
      "cell_type": "code",
      "execution_count": null,
      "metadata": {
        "collapsed": true,
        "id": "YjVkjZGCyZAi"
      },
      "outputs": [],
      "source": []
    },
    {
      "cell_type": "markdown",
      "metadata": {
        "id": "b-Td-fgNp2HM"
      },
      "source": [
        "### Estruturas de Repetição\n",
        "\n",
        "for (with range), while, list comprehension"
      ]
    },
    {
      "cell_type": "markdown",
      "metadata": {
        "id": "mIhOW0di8iZh"
      },
      "source": [
        "26 - Crie um programa que receba do usuário uma entrada referente a string \"Please, type 'q' to quit\". Enquanto o usuário não digitar o caractere 'q', o programa deve exibir \"Sorry, try again.\" e continuar solicitando a informação. Dica: utilize o comando break para interrupção."
      ]
    },
    {
      "cell_type": "code",
      "execution_count": null,
      "metadata": {
        "collapsed": true,
        "id": "BKxPv3BB8ihm"
      },
      "outputs": [],
      "source": [
        "# Insira a resposta abaixo.\n"
      ]
    },
    {
      "cell_type": "markdown",
      "metadata": {
        "id": "nnA67LDY8iqI"
      },
      "source": [
        "27 - Crie um programa que imprima apenas os números ímpares entre 1 e 100."
      ]
    },
    {
      "cell_type": "code",
      "execution_count": null,
      "metadata": {
        "collapsed": true,
        "id": "2_x3vAUe8izO"
      },
      "outputs": [],
      "source": [
        "# Insira a resposta abaixo.\n"
      ]
    },
    {
      "cell_type": "markdown",
      "metadata": {
        "id": "m0QJ9fIe7rOl"
      },
      "source": [
        "28 - A partir da lista definida abaixo, crie uma nova lista contendo apenas os números negativos. Dica: considere utilizar o modo list comprehension."
      ]
    },
    {
      "cell_type": "code",
      "execution_count": null,
      "metadata": {
        "collapsed": true,
        "id": "CHAeZEOw7rWc"
      },
      "outputs": [],
      "source": [
        "lista = [-6, 21, -22, 4, -17, -21, 22, -11, 3, 28]\n",
        "# Insira a resposta abaixo.\n"
      ]
    },
    {
      "cell_type": "markdown",
      "metadata": {
        "id": "U_aYQhC5LPXi"
      },
      "source": [
        "29 - Converta a string definida abaixo em uma lista de palavras. Em seguida, crie um dicionário cujas chaves são as palavras contidas no texto e os valores representem a quantidade de ocorrências da palavra em questão.\n",
        "\n",
        "\n"
      ]
    },
    {
      "cell_type": "code",
      "execution_count": null,
      "metadata": {
        "collapsed": true,
        "id": "EW3G73kBLQD_"
      },
      "outputs": [],
      "source": [
        "texto = '''\n",
        "Lorem ipsum dolor sit amet, consectetur adipiscing elit. Maecenas maximus consequat libero sed eleifend. Mauris pulvinar quam pharetra\n",
        "est efficitur maximus. Mauris tincidunt neque cursus ante vehicula viverra. Nullam neque neque, lobortis ut lacinia in, euismod non purus.\n",
        "Quisque egestas pellentesque nulla eget egestas. In sem felis, pellentesque bibendum hendrerit varius, dapibus blandit libero. Nunc\n",
        "fermentum id risus vel suscipit. Aenean laoreet posuere purus ac viverra. Sed vitae sem finibus, tempor magna a, iaculis ex. Pellentesque\n",
        "sit amet scelerisque purus, quis volutpat ante. Lorem ipsum dolor sit amet, consectetur adipiscing elit. Nulla cursus est metus, vitae\n",
        "molestie elit porta a. Praesent pharetra odio id purus auctor porttitor a ut risus. Lorem ipsum dolor sit amet, consectetur adipiscing elit.\n",
        "'''\n",
        "# Insira a resposota abaixo.\n"
      ]
    },
    {
      "cell_type": "markdown",
      "metadata": {
        "id": "KEmS5Nr-otZR"
      },
      "source": [
        "30 - Imprima o dicionário gerado no passo anterior seguindo uma ordem alfabética.\n",
        "\n",
        "Dicas:\n",
        "1. Python já possui uma função built-in ordenação de listas\n",
        "2. É possível utilizar uma estrutura de repetição para construir um novo dicionário."
      ]
    },
    {
      "cell_type": "code",
      "execution_count": null,
      "metadata": {
        "collapsed": true,
        "id": "dcPK7SXzotiB"
      },
      "outputs": [],
      "source": [
        "# Insira a resposta abaixo.\n"
      ]
    },
    {
      "cell_type": "markdown",
      "metadata": {
        "id": "ix_iQWRj21d-"
      },
      "source": [
        "31 - Na lista 'colors' definida abaixo têm-se três tipos diferentes de cores. A partir dela, crie uma nova lista na qual cada string deve assumir uma lista com valores inteiros seguindo uma estratégia binária da seguinte forma:\n",
        "\n",
        "```\n",
        "red,\tgreen,\tblue\n",
        "[1,\t\t0,\t\t0]\n",
        "[0,\t\t1,\t\t0]\n",
        "[0,\t\t0,\t\t1]\n",
        "\n",
        "```\n",
        "\n",
        "Dica: crie uma lista com os três possíveis valores e utilize a posição do elemento.\n",
        "\n"
      ]
    },
    {
      "cell_type": "code",
      "execution_count": null,
      "metadata": {
        "collapsed": true,
        "id": "h9lQSh8w21pI"
      },
      "outputs": [],
      "source": [
        "colors = ['blue', 'blue', 'green', 'blue', 'red', 'red', 'green', 'blue', 'green', 'red']\n",
        "\n",
        "# Insira a resposta abaixo\n"
      ]
    },
    {
      "cell_type": "markdown",
      "metadata": {
        "id": "BWeuTJxZpOuG"
      },
      "source": [
        "32 - A partir da lista resultante da questão imediatamente anterior,  reverta o processo e retorne uma lista contendo as strings 'blue', 'green' e 'red'."
      ]
    },
    {
      "cell_type": "code",
      "execution_count": null,
      "metadata": {
        "collapsed": true,
        "id": "C12-oQ27pO8x"
      },
      "outputs": [],
      "source": [
        "# Insira a resposta abaixo\n"
      ]
    }
  ],
  "metadata": {
    "colab": {
      "provenance": []
    },
    "kernelspec": {
      "display_name": "Python 3 (ipykernel)",
      "language": "python",
      "name": "python3"
    },
    "language_info": {
      "codemirror_mode": {
        "name": "ipython",
        "version": 3
      },
      "file_extension": ".py",
      "mimetype": "text/x-python",
      "name": "python",
      "nbconvert_exporter": "python",
      "pygments_lexer": "ipython3",
      "version": "3.11.4"
    }
  },
  "nbformat": 4,
  "nbformat_minor": 0
}
